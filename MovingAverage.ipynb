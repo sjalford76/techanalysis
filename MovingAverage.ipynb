{
 "cells": [
  {
   "cell_type": "code",
   "execution_count": 1,
   "metadata": {},
   "outputs": [
    {
     "name": "stdout",
     "output_type": "stream",
     "text": [
      "           Date  Open  High  Low   Close  Volume  Adjustment\n",
      "6127 2000-01-04   NaN   NaN  NaN  2395.0     NaN           1\n",
      "6126 2000-01-05   NaN   NaN  NaN  2370.0     NaN           1\n",
      "6125 2000-01-06   NaN   NaN  NaN  2355.0     NaN           1\n",
      "6124 2000-01-07   NaN   NaN  NaN  2335.0     NaN           1\n",
      "6123 2000-01-10   NaN   NaN  NaN  2275.0     NaN           1\n"
     ]
    }
   ],
   "source": [
    "import pandas\n",
    "import numpy\n",
    "import os\n",
    "\n",
    "base_path = r'C:\\\\Users\\\\s_j_a\\\\Dropbox\\\\Strategies\\\\'\n",
    "df = pandas.read_csv(os.path.join(base_path, 'Data/NYMEX_BZ-MT_prices.csv'), parse_dates=['Date'], dayfirst=True)\n",
    "df.sort_values(by='Date', inplace=True)\n",
    "\n",
    "print(df.head())"
   ]
  },
  {
   "cell_type": "code",
   "execution_count": 2,
   "metadata": {},
   "outputs": [],
   "source": [
    "''' a crosses b from below '''\n",
    "def cross_below(a, b):\n",
    "    diff = a - b\n",
    "    return numpy.array( [ 1 if diff[i-1] < 0 and d > 0 else 0 for i, d in enumerate(diff)] )"
   ]
  },
  {
   "cell_type": "code",
   "execution_count": 3,
   "metadata": {},
   "outputs": [],
   "source": [
    "\n",
    "class Trade(object):\n",
    "    \n",
    "    def __init__(self, date, traded_price, size, stop = None, take_profit = None, expiry = None, exit_price = None):\n",
    "        self._date = date\n",
    "        self._traded_price = traded_price\n",
    "        self._stop = stop\n",
    "        self._take_profit = take_profit\n",
    "        self._expiry = expiry\n",
    "        self._exit_price = exit_price\n",
    "    \n",
    "    def date(self):\n",
    "        return self._date\n",
    "    \n",
    "    def traded_price(self):\n",
    "         return self._traded_price\n",
    "    \n",
    "    def stop(self):\n",
    "        return self._stop\n",
    "    \n",
    "    def take_profit(self):\n",
    "        return self._take_profit\n",
    "    \n",
    "    def expiry(self):\n",
    "        return self._expiry\n",
    "    \n",
    "    def exit_price(self):\n",
    "        return self._exit_price\n",
    "    \n",
    "    def set_exit_price(self, price):\n",
    "        self._exit_price = price\n",
    "    \n",
    "    @staticmethod\n",
    "    def to_dict(trade):\n",
    "        return dict( Date=trade.date()\n",
    "                    , TradePrice=trade.traded_price()\n",
    "                    , Stop=trade.stop()\n",
    "                    , TakeProfit=trade.take_profit()\n",
    "                    , Expiry=trade.expiry()\n",
    "                    , ExitPrice=trade.exit_price() )\n",
    "\n",
    "    "
   ]
  },
  {
   "cell_type": "code",
   "execution_count": 4,
   "metadata": {},
   "outputs": [
    {
     "name": "stdout",
     "output_type": "stream",
     "text": [
      "P&L 8806.00\n",
      "Deals 160\n",
      "Win Pct 64.38\n",
      "Pts per deal 55.04\n",
      "P&L Ratio 0.7986040208654328\n",
      "Return 1.1578513384321225\n"
     ]
    }
   ],
   "source": [
    "import average\n",
    "\n",
    "params = dict(short_ma = 6, long_ma = 13, ultra_long_ma = 26, stop = 0.1, take_profit = 0.05, holding_days = 10)\n",
    "\n",
    "\n",
    "def strategy(params, dates, closes):\n",
    "    short_ma = average.rolling_average(closes, params['short_ma'])\n",
    "    long_ma = average.rolling_average(closes, params['long_ma'])\n",
    "    ultra_long_ma = average.rolling_average(closes, params['ultra_long_ma'])\n",
    "    \n",
    "    crosses = cross_below(short_ma, long_ma)\n",
    "    above_ultra_long = closes - ultra_long_ma\n",
    "    \n",
    "    live_deals = []\n",
    "    dead_deals = []\n",
    "\n",
    "    for i, (date, close, cross, above) in enumerate(zip( dates, closes, crosses, above_ultra_long)):\n",
    "        if cross and above > 0:\n",
    "            live_deals.append(Trade(date, close, 1, close*(1 - params['stop']), close*(1 + params['take_profit']), dates[min(i + params['holding_days'],len(dates)-1)] ))\n",
    "        \n",
    "        for d in live_deals:\n",
    "            if close <= d.stop() or close >= d.take_profit() or date >= d.expiry():\n",
    "                d.set_exit_price(close)\n",
    "                dead_deals.append(d)\n",
    "                live_deals.remove(d)\n",
    "        \n",
    "    for d in live_deals:\n",
    "        d.set_exit_price(closes[-1])\n",
    "        dead_deals += d\n",
    "\n",
    "    return dead_deals\n",
    "        \n",
    "deals = strategy(params, df['Date'].values, df['Close'].values)\n",
    "win_pct = sum([1 for d in deals if d.exit_price() - d.traded_price() > 0])/len(deals)\n",
    "pandl= sum([d.exit_price() - d.traded_price() for d in deals])\n",
    "losses = [d.exit_price() - d.traded_price() for d in deals if (d.exit_price() - d.traded_price()) <= 0] \n",
    "wins = [d.exit_price() - d.traded_price() for d in deals if (d.exit_price() - d.traded_price()) > 0]\n",
    "\n",
    "p_and_l_ratio = (sum(wins)/len(wins))/(sum(numpy.abs(losses))/len(losses))\n",
    "\n",
    "print(f'P&L {pandl:.2f}')\n",
    "print(f'Deals {len(deals)}')\n",
    "print(f\"Win Pct {100*win_pct:.2f}\")\n",
    "print(f\"Pts per deal {pandl/len(deals):.2f}\")\n",
    "print(f\"P&L Ratio {p_and_l_ratio}\")\n",
    "print(f\"Return {win_pct*(1+p_and_l_ratio)}\")"
   ]
  },
  {
   "cell_type": "code",
   "execution_count": 5,
   "metadata": {},
   "outputs": [],
   "source": [
    "deals_df = pandas.DataFrame.from_dict([Trade.to_dict(d) for d in deals])\n",
    "deals_df.to_csv(os.path.join(base_path,'Results/oil.csv'),mode='w')"
   ]
  },
  {
   "cell_type": "code",
   "execution_count": 6,
   "metadata": {},
   "outputs": [],
   "source": [
    "import rsi \n",
    "\n",
    "srs = numpy.array([  54.8, 56.8, 57.85, 59.85, 60.57, 61.1, 62.17, 60.60\n",
    "        , 62.35, 62.15, 62.35, 61.45, 62.8, 61.37, 62.5, 62.57\n",
    "        , 60.8, 59.37, 60.35, 62.35, 62.17, 62.55, 64.55\n",
    "        , 64.37, 65.30, 64.42, 62.90, 61.60, 62.05, 60.05, 59.70\n",
    "        , 60.90, 60.25, 58.27, 58.70, 57.72, 58.10, 58.20])\n",
    "\n",
    "n = 14\n",
    "\n",
    "rsi_srs = rsi.rsi(srs, n)"
   ]
  },
  {
   "cell_type": "code",
   "execution_count": 1,
   "metadata": {},
   "outputs": [],
   "source": [
    "import unittests.trading.test_trailing_stop\n",
    "\n",
    "unittests.trading.test_trailing_stop.test_trailing_stop()\n",
    "\n",
    "\n",
    "\n",
    "\n"
   ]
  },
  {
   "cell_type": "code",
   "execution_count": null,
   "metadata": {},
   "outputs": [],
   "source": []
  },
  {
   "cell_type": "code",
   "execution_count": 2,
   "metadata": {},
   "outputs": [
    {
     "ename": "NameError",
     "evalue": "name 'rsi_srs' is not defined",
     "output_type": "error",
     "traceback": [
      "\u001b[1;31m---------------------------------------------------------------------------\u001b[0m",
      "\u001b[1;31mNameError\u001b[0m                                 Traceback (most recent call last)",
      "\u001b[1;32m<ipython-input-2-74ffc73548f0>\u001b[0m in \u001b[0;36m<module>\u001b[1;34m\u001b[0m\n\u001b[0;32m      1\u001b[0m \u001b[1;32mimport\u001b[0m \u001b[0mplotly\u001b[0m\u001b[1;33m\u001b[0m\u001b[1;33m\u001b[0m\u001b[0m\n\u001b[0;32m      2\u001b[0m \u001b[1;33m\u001b[0m\u001b[0m\n\u001b[1;32m----> 3\u001b[1;33m \u001b[0mplotly\u001b[0m\u001b[1;33m.\u001b[0m\u001b[0mplot\u001b[0m\u001b[1;33m(\u001b[0m\u001b[0mrsi_srs\u001b[0m\u001b[1;33m,\u001b[0m \u001b[0mkind\u001b[0m\u001b[1;33m=\u001b[0m\u001b[1;34m'line'\u001b[0m\u001b[1;33m)\u001b[0m\u001b[1;33m\u001b[0m\u001b[1;33m\u001b[0m\u001b[0m\n\u001b[0m",
      "\u001b[1;31mNameError\u001b[0m: name 'rsi_srs' is not defined"
     ]
    }
   ],
   "source": [
    "import plotly\n",
    "\n",
    "plotly.plot(rsi_srs, kind='line')\n"
   ]
  },
  {
   "cell_type": "code",
   "execution_count": null,
   "metadata": {},
   "outputs": [
    {
     "name": "stdout",
     "output_type": "stream",
     "text": [
      "9 9 9 9\n",
      "[0.5  0.5  0.7  0.3  0.65 0.6  0.8  0.5  0.3 ]\n",
      "[       nan        nan        nan        nan        nan        nan\n",
      " 0.57857143 0.56734694 0.52915452]\n"
     ]
    }
   ],
   "source": [
    "import true_range\n",
    "import average\n",
    "\n",
    "opens = [52.8, 52.6, 52.0, 52.2, 52.10, 51.9, 51.5, 51.15, 51.50 ]\n",
    "highs = [53, 52.75, 52.35, 52.45, 52.35, 52.1, 51.8, 51.6, 51.7 ]\n",
    "lows = [52.5, 52.25, 51.85, 52.15, 51.75, 51.50, 51.00, 51.25, 51.40]\n",
    "closes = [52.7, 52.55, 52.3, 52.4, 51.90, 51.65, 51.10, 51.55, 51.65 ]\n",
    "\n",
    "print(len(opens), len(highs), len(lows), len(closes) )\n",
    "\n",
    "tr = true_range.true_range(highs, lows, closes)\n",
    "\n",
    "print(tr)\n",
    "\n",
    "print(true_range.atr(highs, lows, closes, 7))\n"
   ]
  }
 ],
 "metadata": {
  "kernelspec": {
   "display_name": "analysis",
   "language": "python",
   "name": "analysis"
  },
  "language_info": {
   "codemirror_mode": {
    "name": "ipython",
    "version": 3
   },
   "file_extension": ".py",
   "mimetype": "text/x-python",
   "name": "python",
   "nbconvert_exporter": "python",
   "pygments_lexer": "ipython3",
   "version": "3.8.10"
  }
 },
 "nbformat": 4,
 "nbformat_minor": 2
}
