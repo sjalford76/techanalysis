{
 "cells": [
  {
   "cell_type": "code",
   "execution_count": 29,
   "metadata": {},
   "outputs": [
    {
     "name": "stdout",
     "output_type": "stream",
     "text": [
      "           Date  Open  High  Low   Close  Volume  Adjustment\n",
      "6127 2000-01-04   NaN   NaN  NaN  2395.0     NaN           1\n",
      "6126 2000-01-05   NaN   NaN  NaN  2370.0     NaN           1\n",
      "6125 2000-01-06   NaN   NaN  NaN  2355.0     NaN           1\n",
      "6124 2000-01-07   NaN   NaN  NaN  2335.0     NaN           1\n",
      "6123 2000-01-10   NaN   NaN  NaN  2275.0     NaN           1\n"
     ]
    }
   ],
   "source": [
    "import pandas\n",
    "import numpy\n",
    "import os\n",
    "\n",
    "base_path = r'C:\\\\Users\\\\s_j_a\\\\Dropbox\\\\Strategies\\\\'\n",
    "df = pandas.read_csv(os.path.join(base_path, 'Data/NYMEX_BZ-MT_prices.csv'), parse_dates=['Date'], dayfirst=True)\n",
    "df.sort_values(by='Date', inplace=True)\n",
    "\n",
    "print(df.head())"
   ]
  },
  {
   "cell_type": "code",
   "execution_count": 30,
   "metadata": {},
   "outputs": [],
   "source": [
    "def rolling_average(srs, n):\n",
    "    c = numpy.cumsum(srs, dtype=float)\n",
    "    res = numpy.empty(len(srs))\n",
    "    res.fill(numpy.nan)\n",
    "    res[n:] = (c[n:]- c[:-n]) / n\n",
    "    return res\n",
    "\n",
    "''' a crosses b from below '''\n",
    "def cross_below(a, b):\n",
    "    diff = a - b\n",
    "    return numpy.array( [ 1 if diff[i-1] < 0 and d > 0 else 0 for i, d in enumerate(diff)] )"
   ]
  },
  {
   "cell_type": "code",
   "execution_count": 31,
   "metadata": {},
   "outputs": [],
   "source": [
    "\n",
    "class Trade(object):\n",
    "    \n",
    "    def __init__(self, date, traded_price, size, stop = None, take_profit = None, expiry = None, exit_price = None):\n",
    "        self._date = date\n",
    "        self._traded_price = traded_price\n",
    "        self._stop = stop\n",
    "        self._take_profit = take_profit\n",
    "        self._expiry = expiry\n",
    "        self._exit_price = exit_price\n",
    "    \n",
    "    def date(self):\n",
    "        return self._date\n",
    "    \n",
    "    def traded_price(self):\n",
    "         return self._traded_price\n",
    "    \n",
    "    def stop(self):\n",
    "        return self._stop\n",
    "    \n",
    "    def take_profit(self):\n",
    "        return self._take_profit\n",
    "    \n",
    "    def expiry(self):\n",
    "        return self._expiry\n",
    "    \n",
    "    def exit_price(self):\n",
    "        return self._exit_price\n",
    "    \n",
    "    def set_exit_price(self, price):\n",
    "        self._exit_price = price\n",
    "    \n",
    "    @staticmethod\n",
    "    def to_dict(trade):\n",
    "        return dict( Date=trade.date()\n",
    "                    , TradePrice=trade.traded_price()\n",
    "                    , Stop=trade.stop()\n",
    "                    , TakeProfit=trade.take_profit()\n",
    "                    , Expiry=trade.expiry()\n",
    "                    , ExitPrice=trade.exit_price() )\n",
    "\n",
    "    "
   ]
  },
  {
   "cell_type": "code",
   "execution_count": 32,
   "metadata": {},
   "outputs": [
    {
     "name": "stdout",
     "output_type": "stream",
     "text": [
      "P&L 20259.00\n",
      "Deals 160\n",
      "Win Pct 74.38\n",
      "Pts per deal 126.62\n",
      "P&L Ratio 0.648915610200124\n",
      "Return 1.226380985086342\n"
     ]
    }
   ],
   "source": [
    "\n",
    "params = dict(short_ma = 6, long_ma = 13, ultra_long_ma = 26, stop = 0.1, take_profit = 0.05, holding_days = 25)\n",
    "\n",
    "\n",
    "def strategy(params, dates, closes):\n",
    "    short_ma = rolling_average(closes, params['short_ma'])\n",
    "    long_ma = rolling_average(closes, params['long_ma'])\n",
    "    ultra_long_ma = rolling_average(closes, params['ultra_long_ma'])\n",
    "    \n",
    "    crosses = cross_below(short_ma, long_ma)\n",
    "    above_ultra_long = closes - ultra_long_ma\n",
    "    \n",
    "    live_deals = []\n",
    "    dead_deals = []\n",
    "\n",
    "    for i, (date, close, cross, above) in enumerate(zip( dates, closes, crosses, above_ultra_long)):\n",
    "        if cross and above > 0:\n",
    "            live_deals.append(Trade(date, close, 1, close*(1 - params['stop']), close*(1 + params['take_profit']), dates[min(i + params['holding_days'],len(dates)-1)] ))\n",
    "        \n",
    "        for d in live_deals:\n",
    "            if close <= d.stop() or close >= d.take_profit() or date >= d.expiry():\n",
    "                d.set_exit_price(close)\n",
    "                dead_deals.append(d)\n",
    "                live_deals.remove(d)\n",
    "        \n",
    "    for d in live_deals:\n",
    "        d.set_exit_price(closes[-1])\n",
    "        dead_deals += d\n",
    "\n",
    "    return dead_deals\n",
    "        \n",
    "deals = strategy(params, df['Date'].values, df['Close'].values)\n",
    "win_pct = sum([1 for d in deals if d.exit_price() - d.traded_price() > 0])/len(deals)\n",
    "pandl= sum([d.exit_price() - d.traded_price() for d in deals])\n",
    "losses = [d.exit_price() - d.traded_price() for d in deals if (d.exit_price() - d.traded_price()) <= 0] \n",
    "wins = [d.exit_price() - d.traded_price() for d in deals if (d.exit_price() - d.traded_price()) > 0]\n",
    "\n",
    "p_and_l_ratio = (sum(wins)/len(wins))/(sum(numpy.abs(losses))/len(losses))\n",
    "\n",
    "print(f'P&L {pandl:.2f}')\n",
    "print(f'Deals {len(deals)}')\n",
    "print(f\"Win Pct {100*win_pct:.2f}\")\n",
    "print(f\"Pts per deal {pandl/len(deals):.2f}\")\n",
    "print(f\"P&L Ratio {p_and_l_ratio}\")\n",
    "print(f\"Return {win_pct*(1+p_and_l_ratio)}\")"
   ]
  },
  {
   "cell_type": "code",
   "execution_count": 33,
   "metadata": {},
   "outputs": [],
   "source": [
    "deals_df = pandas.DataFrame.from_dict([Trade.to_dict(d) for d in deals])\n",
    "deals_df.to_csv(os.path.join(base_path,'Results/oil.csv'),mode='w')"
   ]
  },
  {
   "cell_type": "code",
   "execution_count": 34,
   "metadata": {},
   "outputs": [],
   "source": [
    "import plotly"
   ]
  },
  {
   "cell_type": "code",
   "execution_count": null,
   "metadata": {},
   "outputs": [],
   "source": []
  }
 ],
 "metadata": {
  "kernelspec": {
   "display_name": "analysis",
   "language": "python",
   "name": "analysis"
  },
  "language_info": {
   "codemirror_mode": {
    "name": "ipython",
    "version": 3
   },
   "file_extension": ".py",
   "mimetype": "text/x-python",
   "name": "python",
   "nbconvert_exporter": "python",
   "pygments_lexer": "ipython3",
   "version": "3.8.10"
  }
 },
 "nbformat": 4,
 "nbformat_minor": 2
}
